{
  "nbformat": 4,
  "nbformat_minor": 0,
  "metadata": {
    "colab": {
      "provenance": []
    },
    "kernelspec": {
      "name": "python3",
      "display_name": "Python 3"
    },
    "language_info": {
      "name": "python"
    }
  },
  "cells": [
    {
      "cell_type": "markdown",
      "source": [
        "# [1] Install Dependencies (Run First!)"
      ],
      "metadata": {
        "id": "jEmclhyJZiru"
      }
    },
    {
      "cell_type": "code",
      "source": [
        "!pip install sdv pandas faker scikit-learn matplotlib seaborn --quiet"
      ],
      "metadata": {
        "id": "poBSi0AvZkMd"
      },
      "execution_count": null,
      "outputs": []
    },
    {
      "cell_type": "code",
      "source": [
        "import sdv\n",
        "print(sdv.__version__)"
      ],
      "metadata": {
        "colab": {
          "base_uri": "https://localhost:8080/"
        },
        "id": "hbOd2km-b0qN",
        "outputId": "05ab0ce3-2372-412c-a497-0a428314c79d"
      },
      "execution_count": null,
      "outputs": [
        {
          "output_type": "stream",
          "name": "stdout",
          "text": [
            "1.18.0\n"
          ]
        }
      ]
    },
    {
      "cell_type": "markdown",
      "source": [
        "# [2] Import Libraries"
      ],
      "metadata": {
        "id": "tQtOcCJBZmW9"
      }
    },
    {
      "cell_type": "code",
      "source": [
        "import pandas as pd\n",
        "import numpy as np\n",
        "import matplotlib.pyplot as plt\n",
        "import seaborn as sns\n",
        "from sdv.single_table import GaussianCopulaSynthesizer  # Correct import\n",
        "from sdv.evaluation.single_table import evaluate_quality  # Corrected evaluation import\n",
        "from faker import Faker\n",
        "from pathlib import Path\n",
        "import warnings\n",
        "from google.colab import files\n",
        "\n",
        "warnings.filterwarnings('ignore')"
      ],
      "metadata": {
        "id": "Oz2IiS8SZoFd"
      },
      "execution_count": null,
      "outputs": []
    },
    {
      "cell_type": "markdown",
      "source": [
        "# [3] Load Data"
      ],
      "metadata": {
        "id": "8n_iRCy4Zqe2"
      }
    },
    {
      "cell_type": "code",
      "source": [
        "try:\n",
        "    real_data = pd.read_csv('click_fraud_dataset.csv')\n",
        "    print(\"Data loaded successfully!\")\n",
        "except FileNotFoundError:\n",
        "    print(\"Please upload your 'click_fraud_dataset.csv' file:\")\n",
        "    uploaded = files.upload()\n",
        "    real_data = pd.read_csv(next(iter(uploaded.keys())))\n",
        "\n",
        "print(\"\\nFirst 5 rows of original data:\")\n",
        "print(real_data.head())\n",
        "\n",
        "# Ensure correct data types\n",
        "if 'timestamp' in real_data.columns:\n",
        "    real_data['timestamp'] = pd.to_datetime(real_data['timestamp'])"
      ],
      "metadata": {
        "colab": {
          "base_uri": "https://localhost:8080/"
        },
        "id": "qzuj5LGiZsZO",
        "outputId": "2559be04-6084-402b-c0d6-17ef42339ac1"
      },
      "execution_count": null,
      "outputs": [
        {
          "output_type": "stream",
          "name": "stdout",
          "text": [
            "Data loaded successfully!\n",
            "\n",
            "First 5 rows of original data:\n",
            "                               click_id            timestamp  \\\n",
            "0  d875835d-3a4a-4a20-b0d1-6cddf89afc6a  2024-08-23 02:47:39   \n",
            "1  a2d3f028-7790-4be1-9f75-df1357edbbdb  2025-01-30 23:23:50   \n",
            "2  36d787b2-fbce-43ef-8c02-7c8746d7e3db  2025-01-21 05:41:12   \n",
            "3  01fc0078-096b-4f90-82ae-aa8085b719ac  2024-10-12 08:18:14   \n",
            "4  0afdf2af-0b48-47d5-bfb6-e087053e1eb9  2024-04-19 14:44:35   \n",
            "\n",
            "                                user_id      ip_address device_type browser  \\\n",
            "0  65a2f621-707b-49be-9c3e-ccac0b1d89ef    141.36.49.37      Tablet  Safari   \n",
            "1  135e0114-76c5-43ea-bdef-80ab537dc009   216.29.19.201     Desktop   Opera   \n",
            "2  a6922984-78cb-4c01-9c88-bfe3a13a0aaf  167.133.41.231      Tablet  Safari   \n",
            "3  d30788b2-4048-4770-a4b1-a9358788818f   216.146.33.78      Tablet    Edge   \n",
            "4  dfc42287-6325-4344-b373-b8e61ea6e5c1   146.37.54.245     Desktop   Opera   \n",
            "\n",
            "  operating_system                        referrer_url  \\\n",
            "0          Android             https://evans-ford.com/   \n",
            "1              iOS        https://pierce-ferguson.net/   \n",
            "2            Linux           https://www.martinez.com/   \n",
            "3            macOS          https://jones-mendoza.com/   \n",
            "4          Windows  https://www.griffith-holloway.com/   \n",
            "\n",
            "                         page_url  click_duration  ...  mouse_movement  \\\n",
            "0  http://www.turner-stewart.com/            0.29  ...             111   \n",
            "1       http://www.rodriguez.biz/            0.64  ...             452   \n",
            "2               https://beck.biz/            0.42  ...             431   \n",
            "3       https://www.alvarado.com/            4.29  ...             472   \n",
            "4            http://gonzalez.com/            2.46  ...              50   \n",
            "\n",
            "   keystrokes_detected  ad_position click_frequency  time_since_last_click  \\\n",
            "0                    8       Bottom               7                     72   \n",
            "1                   29       Bottom               9                    201   \n",
            "2                   18       Bottom               9                    326   \n",
            "3                   37         Side               4                     33   \n",
            "4                    2         Side               7                     97   \n",
            "\n",
            "   device_ip_reputation VPN_usage  proxy_usage  bot_likelihood_score  \\\n",
            "0                  Good         0            1                  0.29   \n",
            "1            Suspicious         0            0                  0.74   \n",
            "2                  Good         0            1                  0.14   \n",
            "3            Suspicious         0            0                  0.65   \n",
            "4                  Good         0            0                  0.06   \n",
            "\n",
            "   is_fraudulent  \n",
            "0              0  \n",
            "1              0  \n",
            "2              0  \n",
            "3              0  \n",
            "4              0  \n",
            "\n",
            "[5 rows x 21 columns]\n"
          ]
        }
      ]
    },
    {
      "cell_type": "markdown",
      "source": [
        "# [4] Data Exploration"
      ],
      "metadata": {
        "id": "ebGQwFlXZvNV"
      }
    },
    {
      "cell_type": "code",
      "source": [
        "print(\"\\n\" + \"=\"*40)\n",
        "print(\"Data Analysis Section\")\n",
        "print(\"=\"*40)\n",
        "\n",
        "# Basic Info\n",
        "print(f\"\\nDataset shape: {real_data.shape}\")\n",
        "print(\"\\nData types:\")\n",
        "print(real_data.dtypes)\n",
        "\n",
        "# Class Distribution\n",
        "if 'is_fraudulent' in real_data.columns:\n",
        "    plt.figure(figsize=(8,5))\n",
        "    real_data['is_fraudulent'].value_counts().plot(kind='bar', color=['skyblue', 'salmon'])\n",
        "    plt.title('Original Class Distribution')\n",
        "    plt.xticks(rotation=0)\n",
        "    plt.show()\n",
        "else:\n",
        "    print(\"Warning: 'is_fraudulent' column missing in dataset!\")\n"
      ],
      "metadata": {
        "colab": {
          "base_uri": "https://localhost:8080/",
          "height": 970
        },
        "id": "da0SFwLXZwz1",
        "outputId": "349dbe72-7863-4b24-926e-8f94e6fbcdb5"
      },
      "execution_count": null,
      "outputs": [
        {
          "output_type": "stream",
          "name": "stdout",
          "text": [
            "\n",
            "========================================\n",
            "Data Analysis Section\n",
            "========================================\n",
            "\n",
            "Dataset shape: (5000, 21)\n",
            "\n",
            "Data types:\n",
            "click_id                         object\n",
            "timestamp                datetime64[ns]\n",
            "user_id                          object\n",
            "ip_address                       object\n",
            "device_type                      object\n",
            "browser                          object\n",
            "operating_system                 object\n",
            "referrer_url                     object\n",
            "page_url                         object\n",
            "click_duration                  float64\n",
            "scroll_depth                      int64\n",
            "mouse_movement                    int64\n",
            "keystrokes_detected               int64\n",
            "ad_position                      object\n",
            "click_frequency                   int64\n",
            "time_since_last_click             int64\n",
            "device_ip_reputation             object\n",
            "VPN_usage                         int64\n",
            "proxy_usage                       int64\n",
            "bot_likelihood_score            float64\n",
            "is_fraudulent                     int64\n",
            "dtype: object\n"
          ]
        },
        {
          "output_type": "display_data",
          "data": {
            "text/plain": [
              "<Figure size 800x500 with 1 Axes>"
            ],
            "image/png": "[encoded data removed]"
          },
          "metadata": {}
        }
      ]
    },
    {
      "cell_type": "markdown",
      "source": [
        "# [5] Synthetic Data Generation"
      ],
      "metadata": {
        "id": "eO3Pzp7QZ0H0"
      }
    },
    {
      "cell_type": "code",
      "source": [
        "print(\"\\n\" + \"=\"*40)\n",
        "print(\"Generating Synthetic Data\")\n",
        "print(\"=\"*40)\n",
        "\n",
        "# ✅ Fixed Code (Corrected)\n",
        "from sdv.metadata import SingleTableMetadata\n",
        "\n",
        "# Automatically detect metadata from dataset\n",
        "metadata = SingleTableMetadata()\n",
        "metadata.detect_from_dataframe(real_data)\n",
        "\n",
        "# Define the synthesizer model with metadata\n",
        "model = GaussianCopulaSynthesizer(metadata)\n",
        "\n",
        "# Fit the model to real data\n",
        "model.fit(real_data)\n",
        "\n",
        "# Generate synthetic data (2x the original size)\n",
        "synthetic_data = model.sample(num_rows=len(real_data)*2)\n",
        "\n",
        "print(\"\\nFirst 5 synthetic samples:\")\n",
        "print(synthetic_data.head())\n"
      ],
      "metadata": {
        "colab": {
          "base_uri": "https://localhost:8080/"
        },
        "id": "D_mJjEafZ151",
        "outputId": "dc96737c-5f8f-402b-f3cb-fb590d5310c0"
      },
      "execution_count": null,
      "outputs": [
        {
          "output_type": "stream",
          "name": "stdout",
          "text": [
            "\n",
            "========================================\n",
            "Generating Synthetic Data\n",
            "========================================\n",
            "\n",
            "First 5 synthetic samples:\n",
            "        click_id           timestamp        user_id  \\\n",
            "0  sdv-id-OLvbFT 2024-07-12 00:22:09  sdv-pii-wpf3c   \n",
            "1  sdv-id-DZIyKt 2024-02-22 20:27:02  sdv-pii-boh6l   \n",
            "2  sdv-id-hJpUWh 2024-11-28 09:26:43  sdv-pii-x6oy1   \n",
            "3  sdv-id-lKBqmQ 2024-07-20 16:27:27  sdv-pii-3qsd4   \n",
            "4  sdv-id-ZmNLJN 2024-03-03 06:57:02  sdv-pii-5egun   \n",
            "\n",
            "                                ip_address device_type  browser  \\\n",
            "0  3417:8578:2659:7b96:f58b:4a76:9c8e:5400      Tablet     Edge   \n",
            "1  93f1:6e24:c20f:101d:3c07:20f2:4d93:b2c9     Desktop   Chrome   \n",
            "2  3fad:5005:cae6:a441:78d8:60ca:8d68:a411     Desktop  Firefox   \n",
            "3  63da:fa7b:eac5:5ef8:571e:a161:cfa8:fbab     Desktop  Firefox   \n",
            "4  1b78:c5bf:30bd:2e30:ae4a:e97b:5616:1936     Desktop     Edge   \n",
            "\n",
            "  operating_system   referrer_url       page_url  click_duration  ...  \\\n",
            "0            Linux  sdv-pii-oqyy5  sdv-pii-hjpsv            4.37  ...   \n",
            "1          Android  sdv-pii-8g9v5  sdv-pii-ogkzl            1.33  ...   \n",
            "2              iOS  sdv-pii-h8tq2  sdv-pii-5k6vz            1.06  ...   \n",
            "3          Windows  sdv-pii-0wee4  sdv-pii-zp8lq            0.58  ...   \n",
            "4          Windows  sdv-pii-23rxx  sdv-pii-cxhbj            2.33  ...   \n",
            "\n",
            "   mouse_movement  keystrokes_detected  ad_position click_frequency  \\\n",
            "0             402                   24         Side               7   \n",
            "1             183                    4       Bottom               6   \n",
            "2             464                    9          Top               9   \n",
            "3             423                   19         Side               9   \n",
            "4             349                   42         Side               1   \n",
            "\n",
            "   time_since_last_click  device_ip_reputation VPN_usage  proxy_usage  \\\n",
            "0                     40                  Good         0            0   \n",
            "1                    300            Suspicious         0            0   \n",
            "2                    410            Suspicious         0            0   \n",
            "3                    173            Suspicious         0            0   \n",
            "4                    376                  Good         0            0   \n",
            "\n",
            "   bot_likelihood_score  is_fraudulent  \n",
            "0                  0.76              1  \n",
            "1                  0.72              0  \n",
            "2                  0.83              1  \n",
            "3                  0.64              0  \n",
            "4                  0.07              0  \n",
            "\n",
            "[5 rows x 21 columns]\n"
          ]
        }
      ]
    },
    {
      "cell_type": "markdown",
      "source": [
        "# [6] Enhance Realism"
      ],
      "metadata": {
        "id": "n5I0V1drZ4F1"
      }
    },
    {
      "cell_type": "code",
      "source": [
        "print(\"\\n\" + \"=\"*40)\n",
        "print(\"Enhancing Synthetic Data Realism\")\n",
        "print(\"=\"*40)\n",
        "\n",
        "def enhance_synthetic_data(synthetic_df):\n",
        "    if 'timestamp' in synthetic_df.columns:\n",
        "        synthetic_df['timestamp'] = pd.to_datetime(synthetic_df['timestamp'], errors='coerce')\n",
        "        synthetic_df['hour'] = synthetic_df['timestamp'].dt.hour.fillna(0).astype(int)\n",
        "\n",
        "    if 'is_fraudulent' in synthetic_df.columns:\n",
        "        # Simulate VPN usage for fraudulent clicks\n",
        "        fraud_mask = synthetic_df['is_fraudulent'] == 1\n",
        "        synthetic_df.loc[fraud_mask, 'VPN_usage'] = np.random.choice([0, 1], p=[0.2, 0.8], size=fraud_mask.sum())\n",
        "\n",
        "        if 'mouse_movement' in synthetic_df.columns:\n",
        "            synthetic_df.loc[fraud_mask, 'mouse_movement'] *= 0.3  # Reduce mouse movement for fraudsters\n",
        "\n",
        "    return synthetic_df\n",
        "\n",
        "enhanced_data = enhance_synthetic_data(synthetic_data)\n",
        "print(\"\\nEnhanced synthetic data samples:\")\n",
        "print(enhanced_data.head())"
      ],
      "metadata": {
        "colab": {
          "base_uri": "https://localhost:8080/"
        },
        "id": "9q8Ll3noZ5bU",
        "outputId": "3ba70df4-90cf-4262-d4a6-8f17dde405b4"
      },
      "execution_count": null,
      "outputs": [
        {
          "output_type": "stream",
          "name": "stdout",
          "text": [
            "\n",
            "========================================\n",
            "Enhancing Synthetic Data Realism\n",
            "========================================\n",
            "\n",
            "Enhanced synthetic data samples:\n",
            "        click_id           timestamp        user_id  \\\n",
            "0  sdv-id-OLvbFT 2024-07-12 00:22:09  sdv-pii-wpf3c   \n",
            "1  sdv-id-DZIyKt 2024-02-22 20:27:02  sdv-pii-boh6l   \n",
            "2  sdv-id-hJpUWh 2024-11-28 09:26:43  sdv-pii-x6oy1   \n",
            "3  sdv-id-lKBqmQ 2024-07-20 16:27:27  sdv-pii-3qsd4   \n",
            "4  sdv-id-ZmNLJN 2024-03-03 06:57:02  sdv-pii-5egun   \n",
            "\n",
            "                                ip_address device_type  browser  \\\n",
            "0  3417:8578:2659:7b96:f58b:4a76:9c8e:5400      Tablet     Edge   \n",
            "1  93f1:6e24:c20f:101d:3c07:20f2:4d93:b2c9     Desktop   Chrome   \n",
            "2  3fad:5005:cae6:a441:78d8:60ca:8d68:a411     Desktop  Firefox   \n",
            "3  63da:fa7b:eac5:5ef8:571e:a161:cfa8:fbab     Desktop  Firefox   \n",
            "4  1b78:c5bf:30bd:2e30:ae4a:e97b:5616:1936     Desktop     Edge   \n",
            "\n",
            "  operating_system   referrer_url       page_url  click_duration  ...  \\\n",
            "0            Linux  sdv-pii-oqyy5  sdv-pii-hjpsv            4.37  ...   \n",
            "1          Android  sdv-pii-8g9v5  sdv-pii-ogkzl            1.33  ...   \n",
            "2              iOS  sdv-pii-h8tq2  sdv-pii-5k6vz            1.06  ...   \n",
            "3          Windows  sdv-pii-0wee4  sdv-pii-zp8lq            0.58  ...   \n",
            "4          Windows  sdv-pii-23rxx  sdv-pii-cxhbj            2.33  ...   \n",
            "\n",
            "   keystrokes_detected  ad_position  click_frequency time_since_last_click  \\\n",
            "0                   24         Side                7                    40   \n",
            "1                    4       Bottom                6                   300   \n",
            "2                    9          Top                9                   410   \n",
            "3                   19         Side                9                   173   \n",
            "4                   42         Side                1                   376   \n",
            "\n",
            "   device_ip_reputation  VPN_usage proxy_usage  bot_likelihood_score  \\\n",
            "0                  Good          1           0                  0.76   \n",
            "1            Suspicious          0           0                  0.72   \n",
            "2            Suspicious          1           0                  0.83   \n",
            "3            Suspicious          0           0                  0.64   \n",
            "4                  Good          0           0                  0.07   \n",
            "\n",
            "   is_fraudulent  hour  \n",
            "0              1     0  \n",
            "1              0    20  \n",
            "2              1     9  \n",
            "3              0    16  \n",
            "4              0     6  \n",
            "\n",
            "[5 rows x 22 columns]\n"
          ]
        }
      ]
    },
    {
      "cell_type": "markdown",
      "source": [
        "# [7] Data Validation"
      ],
      "metadata": {
        "id": "qRltTZOrZ8ql"
      }
    },
    {
      "cell_type": "code",
      "source": [
        "print(\"\\n\" + \"=\"*40)\n",
        "print(\"Data Validation\")\n",
        "print(\"=\"*40)\n",
        "\n",
        "if 'click_duration' in real_data.columns and 'click_duration' in enhanced_data.columns:\n",
        "    from sdv.evaluation.single_table import evaluate_quality\n",
        "\n",
        "    from sdv.evaluation.single_table import evaluate_quality\n",
        "\n",
        "    from sdv.metadata import SingleTableMetadata\n",
        "    from sdv.evaluation.single_table import evaluate_quality\n",
        "\n",
        "    # Create a fresh metadata object for enhanced data\n",
        "    enhanced_metadata = SingleTableMetadata()\n",
        "    enhanced_metadata.detect_from_dataframe(enhanced_data)\n",
        "\n",
        "    from sdv.metadata import SingleTableMetadata\n",
        "    from sdv.evaluation.single_table import evaluate_quality\n",
        "\n",
        "    # Debugging: Print column names\n",
        "    print(\"Real Data Columns:\", real_data.columns)\n",
        "    print(\"Enhanced Data Columns:\", enhanced_data.columns)\n",
        "\n",
        "    # Ensure column names match\n",
        "    missing_in_real = set(enhanced_data.columns) - set(real_data.columns)\n",
        "    if missing_in_real:\n",
        "        print(f\"Removing extra columns from enhanced data: {missing_in_real}\")\n",
        "        enhanced_data = enhanced_data.drop(columns=missing_in_real)\n",
        "\n",
        "    # Create a new metadata object for enhanced data\n",
        "    enhanced_metadata = SingleTableMetadata()\n",
        "    enhanced_metadata.detect_from_dataframe(enhanced_data)\n",
        "\n",
        "    # Run evaluation\n",
        "    quality_report = evaluate_quality(real_data, enhanced_data, enhanced_metadata)\n",
        "\n",
        "    print(\"\\nData Quality Report:\")\n",
        "    print(quality_report)\n",
        "\n",
        "\n",
        "else:\n",
        "    print(\"Warning: 'click_duration' column missing in dataset, skipping quality evaluation.\")"
      ],
      "metadata": {
        "colab": {
          "base_uri": "https://localhost:8080/"
        },
        "id": "Gre0ZjKUZ96N",
        "outputId": "55bf4795-a34f-4acc-b3b2-218cd5a52d38"
      },
      "execution_count": null,
      "outputs": [
        {
          "output_type": "stream",
          "name": "stdout",
          "text": [
            "\n",
            "========================================\n",
            "Data Validation\n",
            "========================================\n",
            "Real Data Columns: Index(['click_id', 'timestamp', 'user_id', 'ip_address', 'device_type',\n",
            "       'browser', 'operating_system', 'referrer_url', 'page_url',\n",
            "       'click_duration', 'scroll_depth', 'mouse_movement',\n",
            "       'keystrokes_detected', 'ad_position', 'click_frequency',\n",
            "       'time_since_last_click', 'device_ip_reputation', 'VPN_usage',\n",
            "       'proxy_usage', 'bot_likelihood_score', 'is_fraudulent'],\n",
            "      dtype='object')\n",
            "Enhanced Data Columns: Index(['click_id', 'timestamp', 'user_id', 'ip_address', 'device_type',\n",
            "       'browser', 'operating_system', 'referrer_url', 'page_url',\n",
            "       'click_duration', 'scroll_depth', 'mouse_movement',\n",
            "       'keystrokes_detected', 'ad_position', 'click_frequency',\n",
            "       'time_since_last_click', 'device_ip_reputation', 'VPN_usage',\n",
            "       'proxy_usage', 'bot_likelihood_score', 'is_fraudulent'],\n",
            "      dtype='object')\n",
            "Generating report ...\n",
            "\n",
            "\n",
            "|          | 0/21 [00:00<?, ?it/s]|\u001b[A\n",
            "(1/2) Evaluating Column Shapes: |          | 0/21 [00:00<?, ?it/s]|\u001b[A\n",
            "(1/2) Evaluating Column Shapes: |██████████| 21/21 [00:00<00:00, 70.33it/s]|\n",
            "Column Shapes Score: 97.02%\n",
            "\n",
            "\n",
            "|          | 0/210 [00:00<?, ?it/s]|\u001b[A\n",
            "(2/2) Evaluating Column Pair Trends: |          | 0/210 [00:00<?, ?it/s]|\u001b[A\n",
            "(2/2) Evaluating Column Pair Trends: |█▋        | 36/210 [00:00<00:00, 354.24it/s]|\u001b[A\n",
            "(2/2) Evaluating Column Pair Trends: |████      | 86/210 [00:00<00:00, 424.64it/s]|\u001b[A\n",
            "(2/2) Evaluating Column Pair Trends: |██████▏   | 129/210 [00:00<00:00, 303.05it/s]|\u001b[A\n",
            "(2/2) Evaluating Column Pair Trends: |███████▊  | 163/210 [00:00<00:00, 298.13it/s]|\u001b[A\n",
            "(2/2) Evaluating Column Pair Trends: |██████████| 210/210 [00:00<00:00, 265.67it/s]|\n",
            "Column Pair Trends Score: 94.3%\n",
            "\n",
            "Overall Score (Average): 95.66%\n",
            "\n",
            "\n",
            "Data Quality Report:\n",
            "<sdmetrics.reports.single_table.quality_report.QualityReport object at 0x7a64f38eef90>\n"
          ]
        }
      ]
    },
    {
      "cell_type": "markdown",
      "source": [
        "# [8] Final Dataset Creation"
      ],
      "metadata": {
        "id": "U3UhHoZWaCE8"
      }
    },
    {
      "cell_type": "code",
      "source": [
        "print(\"\\n\" + \"=\"*40)\n",
        "print(\"Creating Final Dataset\")\n",
        "print(\"=\"*40)\n",
        "\n",
        "# Merge real and synthetic data\n",
        "augmented_data = pd.concat([real_data, enhanced_data], ignore_index=True)\n",
        "augmented_data = augmented_data.sample(frac=1).reset_index(drop=True)\n",
        "augmented_data.to_csv('augmented_fraud_dataset.csv', index=False)\n",
        "\n",
        "print(f\"Final dataset size: {len(augmented_data)} rows\")\n",
        "\n",
        "# Check class distribution\n",
        "if 'is_fraudulent' in augmented_data.columns:\n",
        "    print(\"Class distribution:\")\n",
        "    print(augmented_data['is_fraudulent'].value_counts(normalize=True).apply(lambda x: f\"{x:.2%}\"))\n",
        "else:\n",
        "    print(\"Warning: 'is_fraudulent' column missing in dataset!\")"
      ],
      "metadata": {
        "colab": {
          "base_uri": "https://localhost:8080/"
        },
        "id": "bsT3ZBuOaDT8",
        "outputId": "ab81c30f-95bf-44ae-9337-caed5989a7e3"
      },
      "execution_count": null,
      "outputs": [
        {
          "output_type": "stream",
          "name": "stdout",
          "text": [
            "\n",
            "========================================\n",
            "Creating Final Dataset\n",
            "========================================\n",
            "Final dataset size: 15000 rows\n",
            "Class distribution:\n",
            "is_fraudulent\n",
            "0    75.72%\n",
            "1    24.28%\n",
            "Name: proportion, dtype: object\n"
          ]
        }
      ]
    },
    {
      "cell_type": "markdown",
      "source": [
        "# [9] Download Results"
      ],
      "metadata": {
        "id": "5cQERcw1aGDM"
      }
    },
    {
      "cell_type": "code",
      "source": [
        "print(\"\\n\" + \"=\"*40)\n",
        "print(\"Download Results\")\n",
        "print(\"=\"*40)\n",
        "\n",
        "try:\n",
        "    files.download('augmented_fraud_dataset.csv')\n",
        "except:\n",
        "    print(\"Right-click the file in Colab's file explorer and select 'Download'\")"
      ],
      "metadata": {
        "colab": {
          "base_uri": "https://localhost:8080/",
          "height": 86
        },
        "id": "dq8AoAAXaHLF",
        "outputId": "1189e726-859e-4e92-8f50-06bf23b04a47"
      },
      "execution_count": null,
      "outputs": [
        {
          "output_type": "stream",
          "name": "stdout",
          "text": [
            "\n",
            "========================================\n",
            "Download Results\n",
            "========================================\n"
          ]
        },
        {
          "output_type": "display_data",
          "data": {
            "text/plain": [
              "<IPython.core.display.Javascript object>"
            ],
            "application/javascript": [
              "\n",
              "    async function download(id, filename, size) {\n",
              "      if (!google.colab.kernel.accessAllowed) {\n",
              "        return;\n",
              "      }\n",
              "      const div = document.createElement('div');\n",
              "      const label = document.createElement('label');\n",
              "      label.textContent = `Downloading \"${filename}\": `;\n",
              "      div.appendChild(label);\n",
              "      const progress = document.createElement('progress');\n",
              "      progress.max = size;\n",
              "      div.appendChild(progress);\n",
              "      document.body.appendChild(div);\n",
              "\n",
              "      const buffers = [];\n",
              "      let downloaded = 0;\n",
              "\n",
              "      const channel = await google.colab.kernel.comms.open(id);\n",
              "      // Send a message to notify the kernel that we're ready.\n",
              "      channel.send({})\n",
              "\n",
              "      for await (const message of channel.messages) {\n",
              "        // Send a message to notify the kernel that we're ready.\n",
              "        channel.send({})\n",
              "        if (message.buffers) {\n",
              "          for (const buffer of message.buffers) {\n",
              "            buffers.push(buffer);\n",
              "            downloaded += buffer.byteLength;\n",
              "            progress.value = downloaded;\n",
              "          }\n",
              "        }\n",
              "      }\n",
              "      const blob = new Blob(buffers, {type: 'application/binary'});\n",
              "      const a = document.createElement('a');\n",
              "      a.href = window.URL.createObjectURL(blob);\n",
              "      a.download = filename;\n",
              "      div.appendChild(a);\n",
              "      a.click();\n",
              "      div.remove();\n",
              "    }\n",
              "  "
            ]
          },
          "metadata": {}
        },
        {
          "output_type": "display_data",
          "data": {
            "text/plain": [
              "<IPython.core.display.Javascript object>"
            ],
            "application/javascript": [
              "download(\"download_3e5145e0-2c63-4011-be77-e6dc3df22883\", \"augmented_fraud_dataset.csv\", 2913038)"
            ]
          },
          "metadata": {}
        }
      ]
    }
  ]
}